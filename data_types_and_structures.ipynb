{
  "nbformat": 4,
  "nbformat_minor": 0,
  "metadata": {
    "colab": {
      "provenance": []
    },
    "kernelspec": {
      "name": "python3",
      "display_name": "Python 3"
    },
    "language_info": {
      "name": "python"
    }
  },
  "cells": [
    {
      "cell_type": "markdown",
      "source": [
        "# ASSIGNMENT"
      ],
      "metadata": {
        "id": "oOl7dKoqbhIU"
      }
    },
    {
      "cell_type": "markdown",
      "source": [
        "\n",
        "## Data types and structures"
      ],
      "metadata": {
        "id": "YS6KpWaJbmeO"
      }
    },
    {
      "cell_type": "markdown",
      "source": [
        "###Theory Questions"
      ],
      "metadata": {
        "id": "H0DjVf98buzh"
      }
    },
    {
      "cell_type": "markdown",
      "source": [
        "1. What are data structures, and why are they important?\n",
        "\n",
        "  - Data structures are organized ways to store and manage data to enable efficient operations like searching, sorting, and updating.Data structures can be Lists, Tuples, Sets, Dictionaries,etc.\n",
        "\n",
        "Example:\n",
        "\n",
        "my_list = [10, 20, 30]\n",
        "\n",
        "my_dict = {'name': 'Alice', 'age': 25}\n",
        "\n",
        "2. Explain the difference between mutable and immutable data types with examples.\n",
        "\n",
        "  - Mutable: Can be modified after creation (e.g., lists, dictionaries).\n",
        "\n",
        "  - Immutable: Cannot be modified once created (e.g., strings, tuples).\n",
        "  \n",
        "Example:\n",
        "\n",
        "lst = [1, 2]\n",
        "lst.append(3)  #this code will work as list is mutable\n",
        "tpl = (1, 2)\n",
        "tpl[0] = 5  # this will throw an error as tuples are immutable.\n",
        "\n",
        "3. What are the main differences between lists and tuples in Python?\n",
        "\n",
        "  - Lists: Mutable, slower, and suited for collections requiring updates.\n",
        "\n",
        "  - Tuples: Immutable, faster, and ideal for fixed data.\n",
        "\n",
        "Example:\n",
        "\n",
        "my_list = [1, 2, 3]\n",
        "my_tuple = (1, 2, 3)\n",
        "\n",
        "4. Describe how dictionaries store data.\n",
        "\n",
        "  - Dictionaries use a hash table to store key-value pairs, allowing fast lookups.\n",
        "\n",
        "Example:\n",
        "\n",
        "student = {'name': 'Saina', 'age': 22}\n",
        "\n",
        "print(student['name'])  \n",
        "\n",
        "5. Why might you use a set instead of a list in Python?\n",
        "\n",
        "  - Sets doesn't store the duplicate values unlike lists.So we prefer sets instead of list when we dont need duplicate values in our data.\n",
        "\n",
        "Example:\n",
        "\n",
        "set1={1,1,2,3,4,5,5,5}\n",
        "\n",
        "print(set1) #output: {1,2,3,4,5}\n",
        "\n",
        "6. What is a string in Python, and how is it different from a list?\n",
        "\n",
        "  - String: Immutable, represents text, sequence of characters.\n",
        "\n",
        "  - List: Mutable, stores collections.\n",
        "  \n",
        "Example:\n",
        "\n",
        "text = 'hello'\n",
        "list1 = ['h', 'e', 'l', 'l', 'o']\n",
        "\n",
        "7. How do tuples ensure data integrity in Python?\n",
        "\n",
        "  - Tuples are immutable, ensuring that stored data remains unchanged.So the data will be consistent and thus ensures the data integrity.\n",
        "\n",
        "Example:\n",
        "\n",
        "temperature = (10, 20)\n",
        "temperature[0] = 15  # Error\n",
        "\n",
        "8. What is a hash table, and how does it relate to dictionaries in Python?\n",
        "\n",
        "  - A hash table is a data structure that maps keys to values using a hashing function. Python dictionaries use hash tables internally for quick lookups (O(1) complexity).\n",
        "\n",
        "\n",
        "9. Can lists contain different data types in python?\n",
        "\n",
        "  - Yes, lists can store multiple data types in python.\n",
        "\n",
        "Example:\n",
        "\n",
        "list2 = [42, 'hello', 3.14,[1,2,3],(2,7)]\n",
        "\n",
        "10. Explain why strings are immutable in Python?\n",
        "\n",
        "  - Strings are the sequence of characters. So they are immutable for performance optimization and security\n",
        "\n",
        "11. What advantages do dictionaries offer over lists for certain tasks?\n",
        "\n",
        "  - Dictionaries provide faster lookups.Also dictionaries are useful to store key value pairs.But we can't use lists to store key value pairs.\n",
        "\n",
        "12.   Describe a scenario where using a tuple would be preferable over a list.\n",
        "\n",
        "  - We can use tuple when we need the data to be unchanged. Tuples are immutable so we cant't change the data after they are created,but the lists are mutable so the data cannot remain unchanged in lists.\n",
        "\n",
        "13. How do sets handle duplicate values in Python?\n",
        "\n",
        "  - Sets automatically remove duplicates.Sets can understand the duplicated data and it will be removed when they are creating.\n",
        "\n",
        "Example:\n",
        "\n",
        "s = {1, 2, 2, 3}\n",
        "print(s)  # {1, 2, 3}\n",
        "\n",
        "14. How does the “in” keyword work differently for lists and dictionaries?\n",
        "\n",
        "  - List: Searches one item at a time (slower).\n",
        "\n",
        "  - Dictionary: Uses hash tables for faster lookups.\n",
        "  \n",
        "Example:\n",
        "\n",
        "print(2 in [1, 2, 3])  # True (slower when compared to dictionary)\n",
        "\n",
        "print('name' in {'name': 'saina'})  # True (faster when compared to lists)\n",
        "\n",
        "15. Can you modify the elements of a tuple? Explain why or why not?\n",
        "\n",
        "  - No, we can't modify the elements in a tuple,because they are immutable data structures.\n",
        "\n",
        "16. What is a nested dictionary, and give an example of its use case?\n",
        "\n",
        "  - A dictionary within another dictionary is known as nested dictionary.It is Useful for structured data.\n",
        "\n",
        "Example:\n",
        "\n",
        "students = {'Saina': {'age': 22, 'grade': 'A+'}}\n",
        "\n",
        "17. Describe the time complexity of accessing elements in a dictionary?\n",
        "\n",
        "  - Dictionaries use a hash table for a faster lookup, so element access is O(1).That is,it's time complexity is O(1).\n",
        "\n",
        "18. In what situations are lists preferred over dictionaries?\n",
        "\n",
        "  - lists are preferred over dictionaries when order is important and indexing by position is needed.\n",
        "\n",
        "19. Why are dictionaries considered unordered, and how does that affect data retrieval?\n",
        "\n",
        "  - Before Python 3.7, dictionaries were unordered. Now they maintain insertion order, but retrieval is still done via hashing, not indexing.\n",
        "\n",
        "20. Explain the difference between a list and a dictionary in terms of data retrieval.\n",
        "\n",
        "  - List: Access via index.\n",
        "\n",
        "  - Dictionary: Access via keys.\n",
        "\n",
        "Example:\n",
        "\n",
        "my_list = [\"apple\", \"banana\", \"cherry\"]\n",
        "print(my_list[1])  # Output: banana (accessed using index)\n",
        "\n",
        "my_dict = {\"fruit1\": \"apple\", \"fruit2\": \"banana\"}\n",
        "print(my_dict[\"fruit2\"])  # Output: banana (accessed using key)\n",
        "\n"
      ],
      "metadata": {
        "id": "-ABLKlWPbzvM"
      }
    },
    {
      "cell_type": "markdown",
      "source": [
        "### Practical Questions"
      ],
      "metadata": {
        "id": "tA4MIZw4dYeB"
      }
    },
    {
      "cell_type": "markdown",
      "source": [
        "1. Write a code to create a string with your name and print it."
      ],
      "metadata": {
        "id": "f7PX3KHadeey"
      }
    },
    {
      "cell_type": "code",
      "execution_count": 1,
      "metadata": {
        "id": "b1SWIJzqbUjn",
        "colab": {
          "base_uri": "https://localhost:8080/"
        },
        "outputId": "d0e7269d-384a-4660-96e9-80d4595521b2"
      },
      "outputs": [
        {
          "output_type": "stream",
          "name": "stdout",
          "text": [
            "saina\n"
          ]
        }
      ],
      "source": [
        "my_name=\"saina\"\n",
        "print(my_name)"
      ]
    },
    {
      "cell_type": "markdown",
      "source": [
        "2. Write a code to find the length of the string \"Hello World\"."
      ],
      "metadata": {
        "id": "q6Fxu8z_ewHn"
      }
    },
    {
      "cell_type": "code",
      "source": [
        "my_string=\"Hello World\"\n",
        "print(len(my_string))"
      ],
      "metadata": {
        "id": "3-jgSukoo6lb",
        "colab": {
          "base_uri": "https://localhost:8080/"
        },
        "outputId": "6c5fff54-db07-4f18-e765-8185ba4bd556"
      },
      "execution_count": 2,
      "outputs": [
        {
          "output_type": "stream",
          "name": "stdout",
          "text": [
            "11\n"
          ]
        }
      ]
    },
    {
      "cell_type": "markdown",
      "source": [
        "3. Write a code to slice the first 3 characters from the string \"Python Programming\".\n"
      ],
      "metadata": {
        "id": "PlFLRTQHe8pN"
      }
    },
    {
      "cell_type": "code",
      "source": [
        "string1=\"Python Programming\"\n",
        "string1[0:3]"
      ],
      "metadata": {
        "colab": {
          "base_uri": "https://localhost:8080/",
          "height": 35
        },
        "id": "WURY26KTe6Zi",
        "outputId": "352d54ee-fec2-42cf-8708-7e51ade29a9a"
      },
      "execution_count": 3,
      "outputs": [
        {
          "output_type": "execute_result",
          "data": {
            "text/plain": [
              "'Pyt'"
            ],
            "application/vnd.google.colaboratory.intrinsic+json": {
              "type": "string"
            }
          },
          "metadata": {},
          "execution_count": 3
        }
      ]
    },
    {
      "cell_type": "markdown",
      "source": [
        "4. Write a code to convert the string \"hello\" to uppercase.\n"
      ],
      "metadata": {
        "id": "nnZs49LMfTaq"
      }
    },
    {
      "cell_type": "code",
      "source": [
        "string2=\"hello\"\n",
        "string2.upper()"
      ],
      "metadata": {
        "colab": {
          "base_uri": "https://localhost:8080/",
          "height": 35
        },
        "id": "objNpk0SfQux",
        "outputId": "4b6e7b55-63fb-4362-8e52-4966238af35b"
      },
      "execution_count": 6,
      "outputs": [
        {
          "output_type": "execute_result",
          "data": {
            "text/plain": [
              "'HELLO'"
            ],
            "application/vnd.google.colaboratory.intrinsic+json": {
              "type": "string"
            }
          },
          "metadata": {},
          "execution_count": 6
        }
      ]
    },
    {
      "cell_type": "markdown",
      "source": [
        "5. Write a code to replace the word \"apple\" with \"orange\" in the string \"I like apple\"."
      ],
      "metadata": {
        "id": "QvAyQhjJfziJ"
      }
    },
    {
      "cell_type": "code",
      "source": [
        "string3=\"I like apple\"\n",
        "string3.replace(\"apple\",\"orange\")"
      ],
      "metadata": {
        "colab": {
          "base_uri": "https://localhost:8080/",
          "height": 35
        },
        "id": "OnkN2OLUfh-O",
        "outputId": "7747220a-3b1f-44bc-f3cd-a8d71cf6f188"
      },
      "execution_count": 7,
      "outputs": [
        {
          "output_type": "execute_result",
          "data": {
            "text/plain": [
              "'I like orange'"
            ],
            "application/vnd.google.colaboratory.intrinsic+json": {
              "type": "string"
            }
          },
          "metadata": {},
          "execution_count": 7
        }
      ]
    },
    {
      "cell_type": "markdown",
      "source": [
        "6. Write a code to create a list with numbers 1 to 5 and print it.\n"
      ],
      "metadata": {
        "id": "77nPQ7lYgNiO"
      }
    },
    {
      "cell_type": "code",
      "source": [
        "list(range(0,6))"
      ],
      "metadata": {
        "colab": {
          "base_uri": "https://localhost:8080/"
        },
        "id": "friaM9gRgMLa",
        "outputId": "6db4c523-7664-4143-b15b-3e7fd99525fb"
      },
      "execution_count": 9,
      "outputs": [
        {
          "output_type": "execute_result",
          "data": {
            "text/plain": [
              "[0, 1, 2, 3, 4, 5]"
            ]
          },
          "metadata": {},
          "execution_count": 9
        }
      ]
    },
    {
      "cell_type": "markdown",
      "source": [
        "7.  Write a code to append the number 10 to the list [1, 2, 3, 4]."
      ],
      "metadata": {
        "id": "QNQ3rIqGg8mT"
      }
    },
    {
      "cell_type": "code",
      "source": [
        "list1=[1, 2, 3, 4]\n",
        "list1.append(10)\n",
        "list1"
      ],
      "metadata": {
        "colab": {
          "base_uri": "https://localhost:8080/"
        },
        "id": "zy-y3L1bghUg",
        "outputId": "e0091f72-12ce-4a94-e553-1d4e00bbe123"
      },
      "execution_count": 11,
      "outputs": [
        {
          "output_type": "execute_result",
          "data": {
            "text/plain": [
              "[1, 2, 3, 4, 10]"
            ]
          },
          "metadata": {},
          "execution_count": 11
        }
      ]
    },
    {
      "cell_type": "markdown",
      "source": [
        "8.  Write a code to remove the number 3 from the list [1, 2, 3, 4, 5]"
      ],
      "metadata": {
        "id": "xkaLlp4zxf1Q"
      }
    },
    {
      "cell_type": "code",
      "source": [
        "list2=[1, 2, 3, 4, 5]\n",
        "list2.remove(3)\n",
        "list2"
      ],
      "metadata": {
        "colab": {
          "base_uri": "https://localhost:8080/"
        },
        "id": "4GvRAzcshLIM",
        "outputId": "5cf1c021-5d3b-4723-885e-f902154ef6da"
      },
      "execution_count": 3,
      "outputs": [
        {
          "output_type": "execute_result",
          "data": {
            "text/plain": [
              "[1, 2, 4, 5]"
            ]
          },
          "metadata": {},
          "execution_count": 3
        }
      ]
    },
    {
      "cell_type": "markdown",
      "source": [
        "9. Write a code to access the second element in the list ['a', 'b', 'c', 'd']"
      ],
      "metadata": {
        "id": "o5Vmvu6Oxv9y"
      }
    },
    {
      "cell_type": "code",
      "source": [
        "list3= ['a', 'b', 'c', 'd']\n",
        "list3[1]"
      ],
      "metadata": {
        "colab": {
          "base_uri": "https://localhost:8080/",
          "height": 35
        },
        "id": "6MTFDn_hxo0X",
        "outputId": "f1446b65-d168-4d42-f7ab-ae6320c4778d"
      },
      "execution_count": 6,
      "outputs": [
        {
          "output_type": "execute_result",
          "data": {
            "text/plain": [
              "'b'"
            ],
            "application/vnd.google.colaboratory.intrinsic+json": {
              "type": "string"
            }
          },
          "metadata": {},
          "execution_count": 6
        }
      ]
    },
    {
      "cell_type": "markdown",
      "source": [
        "10. Write a code to reverse the list [10, 20, 30, 40, 50]."
      ],
      "metadata": {
        "id": "uDxuCRXjx9EC"
      }
    },
    {
      "cell_type": "code",
      "source": [
        "list4= [10, 20, 30, 40, 50]\n",
        "list4[::-1]"
      ],
      "metadata": {
        "colab": {
          "base_uri": "https://localhost:8080/"
        },
        "id": "QqRiHLkGx5hM",
        "outputId": "d1f4df1d-366f-46ee-9e6b-f80ec929dc23"
      },
      "execution_count": 9,
      "outputs": [
        {
          "output_type": "execute_result",
          "data": {
            "text/plain": [
              "[50, 40, 30, 20, 10]"
            ]
          },
          "metadata": {},
          "execution_count": 9
        }
      ]
    },
    {
      "cell_type": "markdown",
      "source": [
        "11.  Write a code to create a tuple with the elements 100, 200, 300 and print it."
      ],
      "metadata": {
        "id": "GEf_ilwVyTmS"
      }
    },
    {
      "cell_type": "code",
      "source": [
        "tuple1=(100,200,300)\n",
        "print(tuple1)"
      ],
      "metadata": {
        "colab": {
          "base_uri": "https://localhost:8080/"
        },
        "id": "Y5QVTLcyyIfR",
        "outputId": "25b4a2c1-9bef-45f9-aa15-574869d216a5"
      },
      "execution_count": 10,
      "outputs": [
        {
          "output_type": "stream",
          "name": "stdout",
          "text": [
            "(100, 200, 300)\n"
          ]
        }
      ]
    },
    {
      "cell_type": "markdown",
      "source": [
        "12. Write a code to access the second-to-last element of the tuple ('red', 'green', 'blue', 'yellow')."
      ],
      "metadata": {
        "id": "dckVL5xyzGU2"
      }
    },
    {
      "cell_type": "code",
      "source": [
        "tuple2= ('red', 'green', 'blue', 'yellow')\n",
        "tuple2[1:]"
      ],
      "metadata": {
        "colab": {
          "base_uri": "https://localhost:8080/"
        },
        "id": "_18QUKTFzDgI",
        "outputId": "270f9dd3-603e-4f32-fb09-fbad17f1e4aa"
      },
      "execution_count": 11,
      "outputs": [
        {
          "output_type": "execute_result",
          "data": {
            "text/plain": [
              "('green', 'blue', 'yellow')"
            ]
          },
          "metadata": {},
          "execution_count": 11
        }
      ]
    },
    {
      "cell_type": "markdown",
      "source": [
        "13.  Write a code to find the minimum number in the tuple (10, 20, 5, 15)"
      ],
      "metadata": {
        "id": "aS2mPjd1zaB5"
      }
    },
    {
      "cell_type": "code",
      "source": [
        "tuple3= (10, 20, 5, 15)\n",
        "min(tuple3)"
      ],
      "metadata": {
        "colab": {
          "base_uri": "https://localhost:8080/"
        },
        "id": "0j_mndlzzU8t",
        "outputId": "fb51a568-b14a-4461-c01c-57aa535844cc"
      },
      "execution_count": 13,
      "outputs": [
        {
          "output_type": "execute_result",
          "data": {
            "text/plain": [
              "5"
            ]
          },
          "metadata": {},
          "execution_count": 13
        }
      ]
    },
    {
      "cell_type": "markdown",
      "source": [
        "14. Write a code to find the index of the element \"cat\" in the tuple ('dog', 'cat', 'rabbit')"
      ],
      "metadata": {
        "id": "Q8s0Pg1sznEw"
      }
    },
    {
      "cell_type": "code",
      "source": [
        "tuple4= ('dog', 'cat', 'rabbit')\n",
        "tuple4.index('cat')"
      ],
      "metadata": {
        "colab": {
          "base_uri": "https://localhost:8080/"
        },
        "id": "QoPYbmHGzhlI",
        "outputId": "10fd45fb-a4ed-4ed7-90a5-2d680e73cf4a"
      },
      "execution_count": 14,
      "outputs": [
        {
          "output_type": "execute_result",
          "data": {
            "text/plain": [
              "1"
            ]
          },
          "metadata": {},
          "execution_count": 14
        }
      ]
    },
    {
      "cell_type": "markdown",
      "source": [
        "15. Write a code to create a tuple containing three different fruits and check if \"kiwi\" is in it."
      ],
      "metadata": {
        "id": "wantOfw10Fr2"
      }
    },
    {
      "cell_type": "code",
      "source": [
        "tuple5=(\"apple\",\"orange\",\"kiwi\")\n",
        "'kiwi' in tuple5"
      ],
      "metadata": {
        "colab": {
          "base_uri": "https://localhost:8080/"
        },
        "id": "9kBFOLzC0D1t",
        "outputId": "e74db05c-c621-4870-cab1-6eb8a6044a19"
      },
      "execution_count": 15,
      "outputs": [
        {
          "output_type": "execute_result",
          "data": {
            "text/plain": [
              "True"
            ]
          },
          "metadata": {},
          "execution_count": 15
        }
      ]
    },
    {
      "cell_type": "code",
      "source": [
        "tuple6=(\"apple\",\"orange\",\"grapes\")\n",
        "'kiwi' in tuple6"
      ],
      "metadata": {
        "colab": {
          "base_uri": "https://localhost:8080/"
        },
        "id": "fuIb1x7o0Yep",
        "outputId": "674817b4-6759-493a-caa0-56fedf50ce49"
      },
      "execution_count": 17,
      "outputs": [
        {
          "output_type": "execute_result",
          "data": {
            "text/plain": [
              "False"
            ]
          },
          "metadata": {},
          "execution_count": 17
        }
      ]
    },
    {
      "cell_type": "markdown",
      "source": [
        "16. Write a code to create a set with the elements 'a', 'b', 'c' and print it."
      ],
      "metadata": {
        "id": "mkSYxTEm0fps"
      }
    },
    {
      "cell_type": "code",
      "source": [
        "set1={'a','b','c'}\n",
        "set1"
      ],
      "metadata": {
        "colab": {
          "base_uri": "https://localhost:8080/"
        },
        "id": "pN8iC2DL0cxq",
        "outputId": "eaaa0549-472f-4ad2-d5cb-569a1a1d1485"
      },
      "execution_count": 19,
      "outputs": [
        {
          "output_type": "execute_result",
          "data": {
            "text/plain": [
              "{'a', 'b', 'c'}"
            ]
          },
          "metadata": {},
          "execution_count": 19
        }
      ]
    },
    {
      "cell_type": "markdown",
      "source": [
        "17.  Write a code to clear all elements from the set {1, 2, 3, 4, 5}."
      ],
      "metadata": {
        "id": "uD4bs8DN0tro"
      }
    },
    {
      "cell_type": "code",
      "source": [
        "set2= {1, 2, 3, 4, 5}\n",
        "print(set2)\n",
        "set2.clear()\n",
        "print(set2)"
      ],
      "metadata": {
        "colab": {
          "base_uri": "https://localhost:8080/"
        },
        "id": "PfC2z0A50qt2",
        "outputId": "d0b799fe-bbc2-4df8-a5b0-a5e814f6055e"
      },
      "execution_count": 22,
      "outputs": [
        {
          "output_type": "stream",
          "name": "stdout",
          "text": [
            "{1, 2, 3, 4, 5}\n",
            "set()\n"
          ]
        }
      ]
    },
    {
      "cell_type": "markdown",
      "source": [
        "18. Write a code to remove the element 4 from the set {1, 2, 3, 4}\n"
      ],
      "metadata": {
        "id": "VnshHsjI0_Zs"
      }
    },
    {
      "cell_type": "code",
      "source": [
        "set3= {1, 2, 3, 4}\n",
        "print(set3)\n",
        "set3.remove(4)\n",
        "set3\n"
      ],
      "metadata": {
        "colab": {
          "base_uri": "https://localhost:8080/"
        },
        "id": "Gt8Jl8X204Ca",
        "outputId": "0a2d16bf-60c4-490a-dea0-9d19a9adeb0d"
      },
      "execution_count": 25,
      "outputs": [
        {
          "output_type": "stream",
          "name": "stdout",
          "text": [
            "{1, 2, 3, 4}\n"
          ]
        },
        {
          "output_type": "execute_result",
          "data": {
            "text/plain": [
              "{1, 2, 3}"
            ]
          },
          "metadata": {},
          "execution_count": 25
        }
      ]
    },
    {
      "cell_type": "markdown",
      "source": [
        "19.  Write a code to find the union of two sets {1, 2, 3} and {3, 4, 5}."
      ],
      "metadata": {
        "id": "Nh5Wmi-v1ogR"
      }
    },
    {
      "cell_type": "code",
      "source": [
        "set4= {1, 2, 3}\n",
        "set5= {3, 4, 5}\n",
        "set4 |set5"
      ],
      "metadata": {
        "colab": {
          "base_uri": "https://localhost:8080/"
        },
        "id": "D5cdSjqk1ik3",
        "outputId": "c6122f02-9764-40ee-c922-3264b86279e7"
      },
      "execution_count": 28,
      "outputs": [
        {
          "output_type": "execute_result",
          "data": {
            "text/plain": [
              "{1, 2, 3, 4, 5}"
            ]
          },
          "metadata": {},
          "execution_count": 28
        }
      ]
    },
    {
      "cell_type": "markdown",
      "source": [
        "20. Write a code to find the intersection of two sets {1, 2, 3} and {2, 3, 4}.\n",
        "\n"
      ],
      "metadata": {
        "id": "6xGtD0vw15NW"
      }
    },
    {
      "cell_type": "code",
      "source": [
        "set6={1, 2, 3}\n",
        "set7={2, 3, 4}\n",
        "set6&set7"
      ],
      "metadata": {
        "colab": {
          "base_uri": "https://localhost:8080/"
        },
        "id": "wkXCFjJP13De",
        "outputId": "1d3b7497-dd4f-444a-9ef0-e2d5269eab9f"
      },
      "execution_count": 29,
      "outputs": [
        {
          "output_type": "execute_result",
          "data": {
            "text/plain": [
              "{2, 3}"
            ]
          },
          "metadata": {},
          "execution_count": 29
        }
      ]
    },
    {
      "cell_type": "markdown",
      "source": [
        "21.  Write a code to create a dictionary with the keys \"name\", \"age\", and \"city\", and print it."
      ],
      "metadata": {
        "id": "uR2YV4vT2TKW"
      }
    },
    {
      "cell_type": "code",
      "source": [
        "dict1={\"name\":\"saina\",\"age\":22,\"city\":\"koratty\"}\n",
        "dict1"
      ],
      "metadata": {
        "colab": {
          "base_uri": "https://localhost:8080/"
        },
        "id": "dWrm-ror2QRO",
        "outputId": "97aaeeb1-31dd-4419-f9b6-4f927a4a7c63"
      },
      "execution_count": 30,
      "outputs": [
        {
          "output_type": "execute_result",
          "data": {
            "text/plain": [
              "{'name': 'saina', 'age': 22, 'city': 'koratty'}"
            ]
          },
          "metadata": {},
          "execution_count": 30
        }
      ]
    },
    {
      "cell_type": "markdown",
      "source": [
        "22. Write a code to add a new key-value pair \"country\": \"USA\" to the dictionary {'name': 'John', 'age': 25}"
      ],
      "metadata": {
        "id": "8QRjWG2J2ihD"
      }
    },
    {
      "cell_type": "code",
      "source": [
        "dict2={'name': 'John', 'age': 25}\n",
        "dict2[\"country\"]=\"USA\"\n",
        "dict2"
      ],
      "metadata": {
        "colab": {
          "base_uri": "https://localhost:8080/"
        },
        "id": "1u5kt2_L2gN5",
        "outputId": "3f2da8c4-fd79-4ffb-c185-27e619ad5ec0"
      },
      "execution_count": 31,
      "outputs": [
        {
          "output_type": "execute_result",
          "data": {
            "text/plain": [
              "{'name': 'John', 'age': 25, 'country': 'USA'}"
            ]
          },
          "metadata": {},
          "execution_count": 31
        }
      ]
    },
    {
      "cell_type": "markdown",
      "source": [
        "23. Write a code to access the value associated with the key \"name\" in the dictionary {'name': 'Alice', 'age': 30}"
      ],
      "metadata": {
        "id": "no7AOh5Q2ze5"
      }
    },
    {
      "cell_type": "code",
      "source": [
        "dict3={'name': 'Alice', 'age': 30}\n",
        "dict3[\"name\"]"
      ],
      "metadata": {
        "colab": {
          "base_uri": "https://localhost:8080/",
          "height": 35
        },
        "id": "PbQSZ2Rb2uSU",
        "outputId": "c4efc15d-1ece-4cd3-9e50-c449fb8de38d"
      },
      "execution_count": 32,
      "outputs": [
        {
          "output_type": "execute_result",
          "data": {
            "text/plain": [
              "'Alice'"
            ],
            "application/vnd.google.colaboratory.intrinsic+json": {
              "type": "string"
            }
          },
          "metadata": {},
          "execution_count": 32
        }
      ]
    },
    {
      "cell_type": "markdown",
      "source": [
        "24. Write a code to remove the key \"age\" from the dictionary {'name': 'Bob', 'age': 22, 'city': 'New York'}."
      ],
      "metadata": {
        "id": "qeTwIOsd3GNG"
      }
    },
    {
      "cell_type": "code",
      "source": [
        "dict4={'name': 'Bob', 'age': 22, 'city': 'New York'}\n",
        "dict4.pop(\"age\")\n",
        "dict4"
      ],
      "metadata": {
        "colab": {
          "base_uri": "https://localhost:8080/"
        },
        "id": "j3v1bETV3AbK",
        "outputId": "4ca95293-c067-41a6-9c39-fe4f382a215c"
      },
      "execution_count": 35,
      "outputs": [
        {
          "output_type": "execute_result",
          "data": {
            "text/plain": [
              "{'name': 'Bob', 'city': 'New York'}"
            ]
          },
          "metadata": {},
          "execution_count": 35
        }
      ]
    },
    {
      "cell_type": "markdown",
      "source": [
        "25. Write a code to check if the key \"city\" exists in the dictionary {'name': 'Alice', 'city': 'Paris'}"
      ],
      "metadata": {
        "id": "ftf6L5mY3X9_"
      }
    },
    {
      "cell_type": "code",
      "source": [
        "dict5={'name': 'Alice', 'city': 'Paris'}\n",
        "'city' in dict5"
      ],
      "metadata": {
        "colab": {
          "base_uri": "https://localhost:8080/"
        },
        "id": "2AwxPEkv3RZo",
        "outputId": "87c5aad6-fa80-49e3-d879-0966c31de073"
      },
      "execution_count": 36,
      "outputs": [
        {
          "output_type": "execute_result",
          "data": {
            "text/plain": [
              "True"
            ]
          },
          "metadata": {},
          "execution_count": 36
        }
      ]
    },
    {
      "cell_type": "markdown",
      "source": [
        "26. Write a code to create a list, a tuple, and a dictionary, and print them all."
      ],
      "metadata": {
        "id": "qT2TG_ps3km6"
      }
    },
    {
      "cell_type": "code",
      "source": [
        "list1=[1,2,3]\n",
        "print(list1)\n",
        "tuple1=(1,2,3)\n",
        "print(tuple1)\n",
        "dict1={\"name\":\"saina\",\"age\":22}\n",
        "print(dict1)"
      ],
      "metadata": {
        "colab": {
          "base_uri": "https://localhost:8080/"
        },
        "id": "e7FGi3pq3ihd",
        "outputId": "19442548-ca20-4e2f-91c3-6c4f94cd909d"
      },
      "execution_count": 37,
      "outputs": [
        {
          "output_type": "stream",
          "name": "stdout",
          "text": [
            "[1, 2, 3]\n",
            "(1, 2, 3)\n",
            "{'name': 'saina', 'age': 22}\n"
          ]
        }
      ]
    },
    {
      "cell_type": "markdown",
      "source": [
        "27. Write a code to create a list of 5 random numbers between 1 and 100, sort it in ascending order, and print the\n",
        "result.(replaced)\n",
        "\n"
      ],
      "metadata": {
        "id": "PpJ-pRZD39cC"
      }
    },
    {
      "cell_type": "code",
      "source": [
        "import random\n",
        "list1=random.sample(range(1,100),5)\n",
        "print(list1)\n",
        "list1.sort()\n",
        "print(list1)"
      ],
      "metadata": {
        "colab": {
          "base_uri": "https://localhost:8080/"
        },
        "id": "hFT3EyBB37nb",
        "outputId": "e9854d62-e165-45c8-c105-3bcb6087777e"
      },
      "execution_count": 38,
      "outputs": [
        {
          "output_type": "stream",
          "name": "stdout",
          "text": [
            "[45, 59, 24, 15, 52]\n",
            "[15, 24, 45, 52, 59]\n"
          ]
        }
      ]
    },
    {
      "cell_type": "markdown",
      "source": [
        "28. Write a code to create a list with strings and print the element at the third index"
      ],
      "metadata": {
        "id": "01UXK-4a4S-T"
      }
    },
    {
      "cell_type": "code",
      "source": [
        "list3=[\"apple\",\"orange\",\"banana\",\"cherry\",\"strawberry\",\"blueberry\"]\n",
        "list3[2]"
      ],
      "metadata": {
        "colab": {
          "base_uri": "https://localhost:8080/",
          "height": 35
        },
        "id": "RC1I97zW4H8X",
        "outputId": "4d321ae3-1e3d-42ab-f88a-6ae82ce532be"
      },
      "execution_count": 40,
      "outputs": [
        {
          "output_type": "execute_result",
          "data": {
            "text/plain": [
              "'banana'"
            ],
            "application/vnd.google.colaboratory.intrinsic+json": {
              "type": "string"
            }
          },
          "metadata": {},
          "execution_count": 40
        }
      ]
    },
    {
      "cell_type": "markdown",
      "source": [
        "29.  Write a code to combine two dictionaries into one and print the result."
      ],
      "metadata": {
        "id": "lH8Du6aQ5A-4"
      }
    },
    {
      "cell_type": "code",
      "source": [
        "dict2={\"name\":\"saina\",\"age\":22}\n",
        "dict3={\"city\":\"koratty\",\"country\":\"india\"}\n",
        "dict2.update(dict3)\n",
        "dict2\n"
      ],
      "metadata": {
        "colab": {
          "base_uri": "https://localhost:8080/"
        },
        "id": "r9YdHDTA4x2c",
        "outputId": "652a61bb-a92d-4ebf-98bd-a96b68ea0ce6"
      },
      "execution_count": 43,
      "outputs": [
        {
          "output_type": "execute_result",
          "data": {
            "text/plain": [
              "{'name': 'saina', 'age': 22, 'city': 'koratty', 'country': 'india'}"
            ]
          },
          "metadata": {},
          "execution_count": 43
        }
      ]
    },
    {
      "cell_type": "markdown",
      "source": [
        "30. Write a code to convert a list of strings into a set."
      ],
      "metadata": {
        "id": "XN2JJh8h5T85"
      }
    },
    {
      "cell_type": "code",
      "source": [
        "list3=[\"apple\",\"orange\",\"banana\",\"cherry\",\"strawberry\",\"blueberry\"]\n",
        "set(list3)"
      ],
      "metadata": {
        "colab": {
          "base_uri": "https://localhost:8080/"
        },
        "id": "TSBTmtQE5JV8",
        "outputId": "acefca4c-fa63-4572-9cf6-f81567e6c963"
      },
      "execution_count": 44,
      "outputs": [
        {
          "output_type": "execute_result",
          "data": {
            "text/plain": [
              "{'apple', 'banana', 'blueberry', 'cherry', 'orange', 'strawberry'}"
            ]
          },
          "metadata": {},
          "execution_count": 44
        }
      ]
    },
    {
      "cell_type": "markdown",
      "source": [
        "# THANK YOU"
      ],
      "metadata": {
        "id": "OBQQo_QN5htg"
      }
    },
    {
      "cell_type": "code",
      "source": [],
      "metadata": {
        "id": "7iwywcoe5fhB"
      },
      "execution_count": null,
      "outputs": []
    }
  ]
}